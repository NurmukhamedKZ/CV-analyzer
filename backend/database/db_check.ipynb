{
 "cells": [
  {
   "cell_type": "code",
   "execution_count": 22,
   "id": "adb05e0d",
   "metadata": {},
   "outputs": [],
   "source": [
    "import pandas as pd\n",
    "import sqlite3\n",
    "\n",
    "sql_conn = sqlite3.connect(\"/Users/nurma/vscode_projects/CVaiStartup/backend/cv_checker.db\")\n",
    "\n",
    "cvfile = pd.read_sql_query(\"SELECT * FROM cvfile\", con=sql_conn)\n",
    "analysis = pd.read_sql_query(\"SELECT * FROM analysisresult\", con=sql_conn)\n",
    "\n",
    "sql_conn.close()"
   ]
  },
  {
   "cell_type": "code",
   "execution_count": 25,
   "id": "3d1a3dde",
   "metadata": {},
   "outputs": [
    {
     "name": "stdout",
     "output_type": "stream",
     "text": [
      "{\"grammar_suggestions\": [\"Add a space between 'Skills' and 'Competitions & Achievements'.\", \"Change 'AI Projects:' to 'AI Projects -'.\", \"Consider rephrasing 'developed with friends' to 'developed collaboratively with peers' for clarity.\", \"In the objective, change 'aim to develop' to 'aims to develop' for subject-verb agreement.\", \"In the education section, consider rephrasing 'Final Year (Grade 11)' to 'Currently in Final Year (Grade 11)'.\"], \"keyword_match\": {\"matched\": [\"AI\", \"ML\", \"engineer\", \"programming\"], \"missing\": [\"machine learning\", \"data analysis\", \"model deployment\", \"deep learning\"], \"score\": 60}, \"ats_compatibility\": {\"score\": 70, \"issues\": [\"Lack of standard section headings (e.g., 'Experience', 'Education').\", \"Inconsistent formatting (e.g., bullet points and spacing).\"], \"suggestions\": [\"Use standard headings for each section to improve ATS readability.\", \"Ensure consistent formatting throughout the CV, including bullet points and spacing.\"]}, \"improved_bullet_points\": [\"Developed a photo booth application utilizing AI for gesture recognition, enhancing user interaction.\", \"Achieved finalist status in the Programming Olympiad by NARXOZ University, demonstrating advanced programming skills.\", \"Participated in district-level programming competitions, showcasing problem-solving abilities and teamwork.\"], \"overall_score\": 72, \"summary\": \"The CV presents a strong foundation for an aspiring AI/ML engineer, but it requires improvements in grammar, keyword alignment with the job description, and ATS compatibility. Enhancing the clarity of bullet points and ensuring consistent formatting will strengthen the overall presentation.\", \"metadata\": {\"filename\": \"Ashekey Nurmukhamed resume.pdf\", \"file_size\": 247695, \"file_type\": \"application/pdf\", \"analysis_timestamp\": \"2025-09-01T09:09:56.619431\", \"user_id\": null}}\n",
      "{\"grammar_suggestions\": [\"Change 'thebestsurgeon@gmail.com' to 'thebestsurgeon@gmail.com'.\", \"Correct 'Y .A D IL B E K' to 'Y.A. DILBEK'.\", \"Revise 'worked as waiter for 3 month' to 'worked as a waiter for 3 months'.\", \"Change 'head waiter for an week' to 'head waiter for a week'.\", \"Revise 'in the kitchen for a monthdelivery using bicycle for 3 month' to 'worked in the kitchen for a month and delivered using a bicycle for 3 months'.\", \"Change 'employee of the month in July' to 'Recognized as Employee of the Month in July'.\", \"Revise 'FINISHED SCHOOL OF SUCCESS COURSE (ENGLISH)' to 'Completed School of Success Course (English)'.\", \"Change 'FINISHED JUST SPEAK IT COURSE (INTERMEDIATE)' to 'Completed Just Speak It Course (Intermediate)'.\", \"Revise 'MOBILE LEGENDS RANK MYTHICAL GLORY' to 'Achieved Mythical Glory rank in Mobile Legends'.\", \"Change 'OSU IN TOP 10000 AMONG KAZAKHSTAN...' to 'Ranked in the top 10,000 in OSU among Kazakhstan players.'\"], \"keyword_match\": {\"matched\": [\"surgeon\", \"communication skills\"], \"missing\": [\"medical experience\", \"patient care\", \"clinical skills\", \"teamwork\", \"leadership\"], \"score\": 40}, \"ats_compatibility\": {\"score\": 60, \"issues\": [\"Lack of clear job titles and dates in the experience section.\", \"Inconsistent formatting and capitalization.\", \"Missing relevant medical qualifications and certifications.\"], \"suggestions\": [\"Use standard job titles and include specific dates for each position.\", \"Ensure consistent formatting throughout the CV.\", \"Add relevant medical qualifications and certifications to enhance credibility.\"]}, \"improved_bullet_points\": [\"Performed surgical procedures under supervision, ensuring adherence to safety protocols and patient care standards.\", \"Demonstrated exceptional communication skills while collaborating with multidisciplinary teams to enhance patient outcomes.\", \"Recognized as Employee of the Month for outstanding service and dedication in a fast-paced environment.\"], \"overall_score\": 65, \"summary\": \"The CV requires significant improvements in grammar, keyword matching, and ATS compatibility. It lacks essential medical experience and relevant qualifications, which are critical for a doctor position. The overall presentation needs to be more professional and aligned with industry standards.\", \"metadata\": {\"filename\": \"\\u0415.\\u0410\\u0414\\u0418\\u041b\\u042c\\u0411\\u0415\\u041a.pdf\", \"file_size\": 145122, \"file_type\": \"application/pdf\", \"analysis_timestamp\": \"2025-09-01T09:10:25.691467\", \"user_id\": null}}\n"
     ]
    }
   ],
   "source": [
    "for i, value in analysis.analysis.items():\n",
    "    print(value)"
   ]
  },
  {
   "cell_type": "code",
   "execution_count": null,
   "id": "8c554373",
   "metadata": {},
   "outputs": [],
   "source": []
  }
 ],
 "metadata": {
  "kernelspec": {
   "display_name": "backend (3.13.5)",
   "language": "python",
   "name": "python3"
  },
  "language_info": {
   "codemirror_mode": {
    "name": "ipython",
    "version": 3
   },
   "file_extension": ".py",
   "mimetype": "text/x-python",
   "name": "python",
   "nbconvert_exporter": "python",
   "pygments_lexer": "ipython3",
   "version": "3.13.5"
  }
 },
 "nbformat": 4,
 "nbformat_minor": 5
}
